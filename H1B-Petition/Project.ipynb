{
 "cells": [
  {
   "cell_type": "markdown",
   "metadata": {},
   "source": [
    "# H1-B Visa Petitions"
   ]
  },
  {
   "cell_type": "code",
   "execution_count": 1,
   "metadata": {},
   "outputs": [
    {
     "name": "stderr",
     "output_type": "stream",
     "text": [
      "C:\\Users\\scara\\Anaconda3\\lib\\site-packages\\sklearn\\externals\\joblib\\__init__.py:15: FutureWarning: sklearn.externals.joblib is deprecated in 0.21 and will be removed in 0.23. Please import this functionality directly from joblib, which can be installed with: pip install joblib. If this warning is raised when loading pickled models, you may need to re-serialize those models with scikit-learn 0.21+.\n",
      "  warnings.warn(msg, category=FutureWarning)\n"
     ]
    }
   ],
   "source": [
    "import pandas as pd\n",
    "from pandas.api.types import is_string_dtype,is_numeric_dtype\n",
    "from sklearn import preprocessing\n",
    "from sklearn.neighbors import KNeighborsClassifier\n",
    "from sklearn.metrics import confusion_matrix,accuracy_score,matthews_corrcoef,f1_score\n",
    "from matplotlib import pyplot as plt\n",
    "import seaborn as sns\n",
    "from sklearn.externals import joblib\n",
    "\n",
    "%matplotlib inline"
   ]
  },
  {
   "cell_type": "code",
   "execution_count": 2,
   "metadata": {},
   "outputs": [],
   "source": [
    "path=r\"C:\\Users\\scara\\Desktop\\Masters\\DataScience\\FinalProject\""
   ]
  },
  {
   "cell_type": "code",
   "execution_count": 3,
   "metadata": {},
   "outputs": [
    {
     "name": "stdout",
     "output_type": "stream",
     "text": [
      "(100605, 11)\n"
     ]
    },
    {
     "data": {
      "text/html": [
       "<div>\n",
       "<style scoped>\n",
       "    .dataframe tbody tr th:only-of-type {\n",
       "        vertical-align: middle;\n",
       "    }\n",
       "\n",
       "    .dataframe tbody tr th {\n",
       "        vertical-align: top;\n",
       "    }\n",
       "\n",
       "    .dataframe thead th {\n",
       "        text-align: right;\n",
       "    }\n",
       "</style>\n",
       "<table border=\"1\" class=\"dataframe\">\n",
       "  <thead>\n",
       "    <tr style=\"text-align: right;\">\n",
       "      <th></th>\n",
       "      <th>Unnamed: 0</th>\n",
       "      <th>CASE_STATUS</th>\n",
       "      <th>EMPLOYER_NAME</th>\n",
       "      <th>SOC_NAME</th>\n",
       "      <th>JOB_TITLE</th>\n",
       "      <th>FULL_TIME_POSITION</th>\n",
       "      <th>PREVAILING_WAGE</th>\n",
       "      <th>YEAR</th>\n",
       "      <th>WORKSITE</th>\n",
       "      <th>lon</th>\n",
       "      <th>lat</th>\n",
       "    </tr>\n",
       "  </thead>\n",
       "  <tbody>\n",
       "    <tr>\n",
       "      <th>0</th>\n",
       "      <td>1</td>\n",
       "      <td>CERTIFIED-WITHDRAWN</td>\n",
       "      <td>UNIVERSITY OF MICHIGAN</td>\n",
       "      <td>BIOCHEMISTS AND BIOPHYSICISTS</td>\n",
       "      <td>POSTDOCTORAL RESEARCH FELLOW</td>\n",
       "      <td>N</td>\n",
       "      <td>36067.0</td>\n",
       "      <td>2016</td>\n",
       "      <td>ANN ARBOR, MICHIGAN</td>\n",
       "      <td>-83.743038</td>\n",
       "      <td>42.280826</td>\n",
       "    </tr>\n",
       "    <tr>\n",
       "      <th>1</th>\n",
       "      <td>2</td>\n",
       "      <td>CERTIFIED-WITHDRAWN</td>\n",
       "      <td>GOODMAN NETWORKS, INC.</td>\n",
       "      <td>CHIEF EXECUTIVES</td>\n",
       "      <td>CHIEF OPERATING OFFICER</td>\n",
       "      <td>Y</td>\n",
       "      <td>242674.0</td>\n",
       "      <td>2016</td>\n",
       "      <td>PLANO, TEXAS</td>\n",
       "      <td>-96.698886</td>\n",
       "      <td>33.019843</td>\n",
       "    </tr>\n",
       "    <tr>\n",
       "      <th>2</th>\n",
       "      <td>3</td>\n",
       "      <td>CERTIFIED-WITHDRAWN</td>\n",
       "      <td>PORTS AMERICA GROUP, INC.</td>\n",
       "      <td>CHIEF EXECUTIVES</td>\n",
       "      <td>CHIEF PROCESS OFFICER</td>\n",
       "      <td>Y</td>\n",
       "      <td>193066.0</td>\n",
       "      <td>2016</td>\n",
       "      <td>JERSEY CITY, NEW JERSEY</td>\n",
       "      <td>-74.077642</td>\n",
       "      <td>40.728158</td>\n",
       "    </tr>\n",
       "  </tbody>\n",
       "</table>\n",
       "</div>"
      ],
      "text/plain": [
       "   Unnamed: 0          CASE_STATUS              EMPLOYER_NAME  \\\n",
       "0           1  CERTIFIED-WITHDRAWN     UNIVERSITY OF MICHIGAN   \n",
       "1           2  CERTIFIED-WITHDRAWN     GOODMAN NETWORKS, INC.   \n",
       "2           3  CERTIFIED-WITHDRAWN  PORTS AMERICA GROUP, INC.   \n",
       "\n",
       "                        SOC_NAME                     JOB_TITLE  \\\n",
       "0  BIOCHEMISTS AND BIOPHYSICISTS  POSTDOCTORAL RESEARCH FELLOW   \n",
       "1               CHIEF EXECUTIVES       CHIEF OPERATING OFFICER   \n",
       "2               CHIEF EXECUTIVES         CHIEF PROCESS OFFICER   \n",
       "\n",
       "  FULL_TIME_POSITION  PREVAILING_WAGE  YEAR                 WORKSITE  \\\n",
       "0                  N          36067.0  2016      ANN ARBOR, MICHIGAN   \n",
       "1                  Y         242674.0  2016             PLANO, TEXAS   \n",
       "2                  Y         193066.0  2016  JERSEY CITY, NEW JERSEY   \n",
       "\n",
       "         lon        lat  \n",
       "0 -83.743038  42.280826  \n",
       "1 -96.698886  33.019843  \n",
       "2 -74.077642  40.728158  "
      ]
     },
     "execution_count": 3,
     "metadata": {},
     "output_type": "execute_result"
    }
   ],
   "source": [
    "my_df=pd.read_csv(f'{path}\\h1bsamp.csv')\n",
    "print(my_df.shape)\n",
    "my_df.head(3)"
   ]
  },
  {
   "cell_type": "markdown",
   "metadata": {},
   "source": [
    "# Train, Valid and Test Data Split"
   ]
  },
  {
   "cell_type": "code",
   "execution_count": 4,
   "metadata": {},
   "outputs": [],
   "source": [
    "# Function to split data sets\n",
    "def mydf_splitter(my_df,num_rows):\n",
    "    return my_df[:num_rows].copy(),my_df[num_rows:]"
   ]
  },
  {
   "cell_type": "code",
   "execution_count": 5,
   "metadata": {},
   "outputs": [
    {
     "name": "stdout",
     "output_type": "stream",
     "text": [
      "Length of Full Data Frame 100605\n",
      "Length of test 30181\n"
     ]
    }
   ],
   "source": [
    "#Calculate\n",
    "length=len(my_df)\n",
    "print(\"Length of Full Data Frame\",length)\n",
    "test = int((30*length)/100)\n",
    "print(\"Length of test\",test)"
   ]
  },
  {
   "cell_type": "code",
   "execution_count": 6,
   "metadata": {},
   "outputs": [
    {
     "name": "stdout",
     "output_type": "stream",
     "text": [
      "(70424, 11) (30181, 11)\n"
     ]
    }
   ],
   "source": [
    "mydf_train,mydf_valid_test = mydf_splitter(my_df,(length-test))\n",
    "print(mydf_train.shape,mydf_valid_test.shape)"
   ]
  },
  {
   "cell_type": "code",
   "execution_count": 7,
   "metadata": {},
   "outputs": [
    {
     "data": {
      "text/html": [
       "<div>\n",
       "<style scoped>\n",
       "    .dataframe tbody tr th:only-of-type {\n",
       "        vertical-align: middle;\n",
       "    }\n",
       "\n",
       "    .dataframe tbody tr th {\n",
       "        vertical-align: top;\n",
       "    }\n",
       "\n",
       "    .dataframe thead th {\n",
       "        text-align: right;\n",
       "    }\n",
       "</style>\n",
       "<table border=\"1\" class=\"dataframe\">\n",
       "  <thead>\n",
       "    <tr style=\"text-align: right;\">\n",
       "      <th></th>\n",
       "      <th>Unnamed: 0</th>\n",
       "      <th>CASE_STATUS</th>\n",
       "      <th>EMPLOYER_NAME</th>\n",
       "      <th>SOC_NAME</th>\n",
       "      <th>JOB_TITLE</th>\n",
       "      <th>FULL_TIME_POSITION</th>\n",
       "      <th>PREVAILING_WAGE</th>\n",
       "      <th>YEAR</th>\n",
       "      <th>WORKSITE</th>\n",
       "      <th>lon</th>\n",
       "      <th>lat</th>\n",
       "    </tr>\n",
       "  </thead>\n",
       "  <tbody>\n",
       "    <tr>\n",
       "      <th>0</th>\n",
       "      <td>1</td>\n",
       "      <td>CERTIFIED-WITHDRAWN</td>\n",
       "      <td>UNIVERSITY OF MICHIGAN</td>\n",
       "      <td>BIOCHEMISTS AND BIOPHYSICISTS</td>\n",
       "      <td>POSTDOCTORAL RESEARCH FELLOW</td>\n",
       "      <td>N</td>\n",
       "      <td>36067.0</td>\n",
       "      <td>2016</td>\n",
       "      <td>ANN ARBOR, MICHIGAN</td>\n",
       "      <td>-83.743038</td>\n",
       "      <td>42.280826</td>\n",
       "    </tr>\n",
       "    <tr>\n",
       "      <th>1</th>\n",
       "      <td>2</td>\n",
       "      <td>CERTIFIED-WITHDRAWN</td>\n",
       "      <td>GOODMAN NETWORKS, INC.</td>\n",
       "      <td>CHIEF EXECUTIVES</td>\n",
       "      <td>CHIEF OPERATING OFFICER</td>\n",
       "      <td>Y</td>\n",
       "      <td>242674.0</td>\n",
       "      <td>2016</td>\n",
       "      <td>PLANO, TEXAS</td>\n",
       "      <td>-96.698886</td>\n",
       "      <td>33.019843</td>\n",
       "    </tr>\n",
       "    <tr>\n",
       "      <th>2</th>\n",
       "      <td>3</td>\n",
       "      <td>CERTIFIED-WITHDRAWN</td>\n",
       "      <td>PORTS AMERICA GROUP, INC.</td>\n",
       "      <td>CHIEF EXECUTIVES</td>\n",
       "      <td>CHIEF PROCESS OFFICER</td>\n",
       "      <td>Y</td>\n",
       "      <td>193066.0</td>\n",
       "      <td>2016</td>\n",
       "      <td>JERSEY CITY, NEW JERSEY</td>\n",
       "      <td>-74.077642</td>\n",
       "      <td>40.728158</td>\n",
       "    </tr>\n",
       "  </tbody>\n",
       "</table>\n",
       "</div>"
      ],
      "text/plain": [
       "   Unnamed: 0          CASE_STATUS              EMPLOYER_NAME  \\\n",
       "0           1  CERTIFIED-WITHDRAWN     UNIVERSITY OF MICHIGAN   \n",
       "1           2  CERTIFIED-WITHDRAWN     GOODMAN NETWORKS, INC.   \n",
       "2           3  CERTIFIED-WITHDRAWN  PORTS AMERICA GROUP, INC.   \n",
       "\n",
       "                        SOC_NAME                     JOB_TITLE  \\\n",
       "0  BIOCHEMISTS AND BIOPHYSICISTS  POSTDOCTORAL RESEARCH FELLOW   \n",
       "1               CHIEF EXECUTIVES       CHIEF OPERATING OFFICER   \n",
       "2               CHIEF EXECUTIVES         CHIEF PROCESS OFFICER   \n",
       "\n",
       "  FULL_TIME_POSITION  PREVAILING_WAGE  YEAR                 WORKSITE  \\\n",
       "0                  N          36067.0  2016      ANN ARBOR, MICHIGAN   \n",
       "1                  Y         242674.0  2016             PLANO, TEXAS   \n",
       "2                  Y         193066.0  2016  JERSEY CITY, NEW JERSEY   \n",
       "\n",
       "         lon        lat  \n",
       "0 -83.743038  42.280826  \n",
       "1 -96.698886  33.019843  \n",
       "2 -74.077642  40.728158  "
      ]
     },
     "execution_count": 7,
     "metadata": {},
     "output_type": "execute_result"
    }
   ],
   "source": [
    "#Verify the train data\n",
    "mydf_train.head(3)"
   ]
  },
  {
   "cell_type": "code",
   "execution_count": 8,
   "metadata": {},
   "outputs": [
    {
     "data": {
      "text/html": [
       "<div>\n",
       "<style scoped>\n",
       "    .dataframe tbody tr th:only-of-type {\n",
       "        vertical-align: middle;\n",
       "    }\n",
       "\n",
       "    .dataframe tbody tr th {\n",
       "        vertical-align: top;\n",
       "    }\n",
       "\n",
       "    .dataframe thead th {\n",
       "        text-align: right;\n",
       "    }\n",
       "</style>\n",
       "<table border=\"1\" class=\"dataframe\">\n",
       "  <thead>\n",
       "    <tr style=\"text-align: right;\">\n",
       "      <th></th>\n",
       "      <th>Unnamed: 0</th>\n",
       "      <th>CASE_STATUS</th>\n",
       "      <th>EMPLOYER_NAME</th>\n",
       "      <th>SOC_NAME</th>\n",
       "      <th>JOB_TITLE</th>\n",
       "      <th>FULL_TIME_POSITION</th>\n",
       "      <th>PREVAILING_WAGE</th>\n",
       "      <th>YEAR</th>\n",
       "      <th>WORKSITE</th>\n",
       "      <th>lon</th>\n",
       "      <th>lat</th>\n",
       "    </tr>\n",
       "  </thead>\n",
       "  <tbody>\n",
       "    <tr>\n",
       "      <th>70424</th>\n",
       "      <td>70425</td>\n",
       "      <td>CERTIFIED</td>\n",
       "      <td>GRAND BK CORP</td>\n",
       "      <td>FINANCIAL ANALYSTS</td>\n",
       "      <td>CORPORATE FINANCIAL ANALYST FOR INTERNATIONAL ...</td>\n",
       "      <td>N</td>\n",
       "      <td>65187.2</td>\n",
       "      <td>2016</td>\n",
       "      <td>MASPETH, NEW YORK</td>\n",
       "      <td>-73.906588</td>\n",
       "      <td>40.729402</td>\n",
       "    </tr>\n",
       "    <tr>\n",
       "      <th>70425</th>\n",
       "      <td>70426</td>\n",
       "      <td>CERTIFIED</td>\n",
       "      <td>JPMORGAN CHASE &amp; CO.</td>\n",
       "      <td>FINANCIAL ANALYSTS</td>\n",
       "      <td>ANALYST</td>\n",
       "      <td>Y</td>\n",
       "      <td>72800.0</td>\n",
       "      <td>2016</td>\n",
       "      <td>SAN FRANCISCO, CALIFORNIA</td>\n",
       "      <td>-122.419415</td>\n",
       "      <td>37.774929</td>\n",
       "    </tr>\n",
       "    <tr>\n",
       "      <th>70426</th>\n",
       "      <td>70427</td>\n",
       "      <td>CERTIFIED</td>\n",
       "      <td>CONNECTICUT MUNICIPAL ELECTRIC ENERGY COOPERATIVE</td>\n",
       "      <td>FINANCIAL ANALYSTS</td>\n",
       "      <td>STRATEGIC OPERATIONS PROFESSIONAL APPRENTICESHIP</td>\n",
       "      <td>N</td>\n",
       "      <td>51355.0</td>\n",
       "      <td>2016</td>\n",
       "      <td>NORWICH, CONNECTICUT</td>\n",
       "      <td>-72.075910</td>\n",
       "      <td>41.524265</td>\n",
       "    </tr>\n",
       "  </tbody>\n",
       "</table>\n",
       "</div>"
      ],
      "text/plain": [
       "       Unnamed: 0 CASE_STATUS  \\\n",
       "70424       70425   CERTIFIED   \n",
       "70425       70426   CERTIFIED   \n",
       "70426       70427   CERTIFIED   \n",
       "\n",
       "                                           EMPLOYER_NAME            SOC_NAME  \\\n",
       "70424                                      GRAND BK CORP  FINANCIAL ANALYSTS   \n",
       "70425                               JPMORGAN CHASE & CO.  FINANCIAL ANALYSTS   \n",
       "70426  CONNECTICUT MUNICIPAL ELECTRIC ENERGY COOPERATIVE  FINANCIAL ANALYSTS   \n",
       "\n",
       "                                               JOB_TITLE FULL_TIME_POSITION  \\\n",
       "70424  CORPORATE FINANCIAL ANALYST FOR INTERNATIONAL ...                  N   \n",
       "70425                                            ANALYST                  Y   \n",
       "70426   STRATEGIC OPERATIONS PROFESSIONAL APPRENTICESHIP                  N   \n",
       "\n",
       "       PREVAILING_WAGE  YEAR                   WORKSITE         lon        lat  \n",
       "70424          65187.2  2016          MASPETH, NEW YORK  -73.906588  40.729402  \n",
       "70425          72800.0  2016  SAN FRANCISCO, CALIFORNIA -122.419415  37.774929  \n",
       "70426          51355.0  2016       NORWICH, CONNECTICUT  -72.075910  41.524265  "
      ]
     },
     "execution_count": 8,
     "metadata": {},
     "output_type": "execute_result"
    }
   ],
   "source": [
    "#Verify the valid_test data\n",
    "mydf_valid_test.head(3)"
   ]
  },
  {
   "cell_type": "code",
   "execution_count": 9,
   "metadata": {},
   "outputs": [
    {
     "name": "stdout",
     "output_type": "stream",
     "text": [
      "15090\n",
      "(15090, 11) (15091, 11)\n"
     ]
    }
   ],
   "source": [
    "# Split the valid_test data in half into validation and test sets\n",
    "a=int(test/2)\n",
    "print(a)\n",
    "mydf_valid,mydf_test = mydf_splitter(mydf_valid_test,a)\n",
    "print(mydf_valid.shape,mydf_test.shape)"
   ]
  },
  {
   "cell_type": "code",
   "execution_count": 10,
   "metadata": {},
   "outputs": [
    {
     "data": {
      "text/html": [
       "<div>\n",
       "<style scoped>\n",
       "    .dataframe tbody tr th:only-of-type {\n",
       "        vertical-align: middle;\n",
       "    }\n",
       "\n",
       "    .dataframe tbody tr th {\n",
       "        vertical-align: top;\n",
       "    }\n",
       "\n",
       "    .dataframe thead th {\n",
       "        text-align: right;\n",
       "    }\n",
       "</style>\n",
       "<table border=\"1\" class=\"dataframe\">\n",
       "  <thead>\n",
       "    <tr style=\"text-align: right;\">\n",
       "      <th></th>\n",
       "      <th>Unnamed: 0</th>\n",
       "      <th>CASE_STATUS</th>\n",
       "      <th>EMPLOYER_NAME</th>\n",
       "      <th>SOC_NAME</th>\n",
       "      <th>JOB_TITLE</th>\n",
       "      <th>FULL_TIME_POSITION</th>\n",
       "      <th>PREVAILING_WAGE</th>\n",
       "      <th>YEAR</th>\n",
       "      <th>WORKSITE</th>\n",
       "      <th>lon</th>\n",
       "      <th>lat</th>\n",
       "    </tr>\n",
       "  </thead>\n",
       "  <tbody>\n",
       "    <tr>\n",
       "      <th>70424</th>\n",
       "      <td>70425</td>\n",
       "      <td>CERTIFIED</td>\n",
       "      <td>GRAND BK CORP</td>\n",
       "      <td>FINANCIAL ANALYSTS</td>\n",
       "      <td>CORPORATE FINANCIAL ANALYST FOR INTERNATIONAL ...</td>\n",
       "      <td>N</td>\n",
       "      <td>65187.2</td>\n",
       "      <td>2016</td>\n",
       "      <td>MASPETH, NEW YORK</td>\n",
       "      <td>-73.906588</td>\n",
       "      <td>40.729402</td>\n",
       "    </tr>\n",
       "    <tr>\n",
       "      <th>70425</th>\n",
       "      <td>70426</td>\n",
       "      <td>CERTIFIED</td>\n",
       "      <td>JPMORGAN CHASE &amp; CO.</td>\n",
       "      <td>FINANCIAL ANALYSTS</td>\n",
       "      <td>ANALYST</td>\n",
       "      <td>Y</td>\n",
       "      <td>72800.0</td>\n",
       "      <td>2016</td>\n",
       "      <td>SAN FRANCISCO, CALIFORNIA</td>\n",
       "      <td>-122.419415</td>\n",
       "      <td>37.774929</td>\n",
       "    </tr>\n",
       "    <tr>\n",
       "      <th>70426</th>\n",
       "      <td>70427</td>\n",
       "      <td>CERTIFIED</td>\n",
       "      <td>CONNECTICUT MUNICIPAL ELECTRIC ENERGY COOPERATIVE</td>\n",
       "      <td>FINANCIAL ANALYSTS</td>\n",
       "      <td>STRATEGIC OPERATIONS PROFESSIONAL APPRENTICESHIP</td>\n",
       "      <td>N</td>\n",
       "      <td>51355.0</td>\n",
       "      <td>2016</td>\n",
       "      <td>NORWICH, CONNECTICUT</td>\n",
       "      <td>-72.075910</td>\n",
       "      <td>41.524265</td>\n",
       "    </tr>\n",
       "  </tbody>\n",
       "</table>\n",
       "</div>"
      ],
      "text/plain": [
       "       Unnamed: 0 CASE_STATUS  \\\n",
       "70424       70425   CERTIFIED   \n",
       "70425       70426   CERTIFIED   \n",
       "70426       70427   CERTIFIED   \n",
       "\n",
       "                                           EMPLOYER_NAME            SOC_NAME  \\\n",
       "70424                                      GRAND BK CORP  FINANCIAL ANALYSTS   \n",
       "70425                               JPMORGAN CHASE & CO.  FINANCIAL ANALYSTS   \n",
       "70426  CONNECTICUT MUNICIPAL ELECTRIC ENERGY COOPERATIVE  FINANCIAL ANALYSTS   \n",
       "\n",
       "                                               JOB_TITLE FULL_TIME_POSITION  \\\n",
       "70424  CORPORATE FINANCIAL ANALYST FOR INTERNATIONAL ...                  N   \n",
       "70425                                            ANALYST                  Y   \n",
       "70426   STRATEGIC OPERATIONS PROFESSIONAL APPRENTICESHIP                  N   \n",
       "\n",
       "       PREVAILING_WAGE  YEAR                   WORKSITE         lon        lat  \n",
       "70424          65187.2  2016          MASPETH, NEW YORK  -73.906588  40.729402  \n",
       "70425          72800.0  2016  SAN FRANCISCO, CALIFORNIA -122.419415  37.774929  \n",
       "70426          51355.0  2016       NORWICH, CONNECTICUT  -72.075910  41.524265  "
      ]
     },
     "execution_count": 10,
     "metadata": {},
     "output_type": "execute_result"
    }
   ],
   "source": [
    "#Verify the valid data\n",
    "mydf_valid.head(3)"
   ]
  },
  {
   "cell_type": "code",
   "execution_count": 11,
   "metadata": {},
   "outputs": [
    {
     "data": {
      "text/html": [
       "<div>\n",
       "<style scoped>\n",
       "    .dataframe tbody tr th:only-of-type {\n",
       "        vertical-align: middle;\n",
       "    }\n",
       "\n",
       "    .dataframe tbody tr th {\n",
       "        vertical-align: top;\n",
       "    }\n",
       "\n",
       "    .dataframe thead th {\n",
       "        text-align: right;\n",
       "    }\n",
       "</style>\n",
       "<table border=\"1\" class=\"dataframe\">\n",
       "  <thead>\n",
       "    <tr style=\"text-align: right;\">\n",
       "      <th></th>\n",
       "      <th>Unnamed: 0</th>\n",
       "      <th>CASE_STATUS</th>\n",
       "      <th>EMPLOYER_NAME</th>\n",
       "      <th>SOC_NAME</th>\n",
       "      <th>JOB_TITLE</th>\n",
       "      <th>FULL_TIME_POSITION</th>\n",
       "      <th>PREVAILING_WAGE</th>\n",
       "      <th>YEAR</th>\n",
       "      <th>WORKSITE</th>\n",
       "      <th>lon</th>\n",
       "      <th>lat</th>\n",
       "    </tr>\n",
       "  </thead>\n",
       "  <tbody>\n",
       "    <tr>\n",
       "      <th>85514</th>\n",
       "      <td>85515</td>\n",
       "      <td>CERTIFIED</td>\n",
       "      <td>ANVETA, INC.</td>\n",
       "      <td>COMPUTER SYSTEMS ANALYSTS</td>\n",
       "      <td>SYSTEMS ANALYST</td>\n",
       "      <td>N</td>\n",
       "      <td>60133.0</td>\n",
       "      <td>2016</td>\n",
       "      <td>IRVING, TEXAS</td>\n",
       "      <td>-96.948894</td>\n",
       "      <td>32.814018</td>\n",
       "    </tr>\n",
       "    <tr>\n",
       "      <th>85515</th>\n",
       "      <td>85516</td>\n",
       "      <td>CERTIFIED</td>\n",
       "      <td>ERNST &amp; YOUNG U.S. LLP</td>\n",
       "      <td>COMPUTER SYSTEMS ANALYSTS</td>\n",
       "      <td>ADVISORY STAFF</td>\n",
       "      <td>Y</td>\n",
       "      <td>74922.0</td>\n",
       "      <td>2016</td>\n",
       "      <td>SAN FRANCISCO, CALIFORNIA</td>\n",
       "      <td>-122.419415</td>\n",
       "      <td>37.774929</td>\n",
       "    </tr>\n",
       "    <tr>\n",
       "      <th>85516</th>\n",
       "      <td>85517</td>\n",
       "      <td>CERTIFIED</td>\n",
       "      <td>QUICKEN LOANS INC.</td>\n",
       "      <td>COMPUTER SYSTEMS ANALYSTS</td>\n",
       "      <td>SENIOR BUSINESS ANALYST IN BUSINESS INTELLIGENCE</td>\n",
       "      <td>Y</td>\n",
       "      <td>78250.0</td>\n",
       "      <td>2016</td>\n",
       "      <td>DETROIT, MICHIGAN</td>\n",
       "      <td>-83.045754</td>\n",
       "      <td>42.331427</td>\n",
       "    </tr>\n",
       "  </tbody>\n",
       "</table>\n",
       "</div>"
      ],
      "text/plain": [
       "       Unnamed: 0 CASE_STATUS           EMPLOYER_NAME  \\\n",
       "85514       85515   CERTIFIED            ANVETA, INC.   \n",
       "85515       85516   CERTIFIED  ERNST & YOUNG U.S. LLP   \n",
       "85516       85517   CERTIFIED      QUICKEN LOANS INC.   \n",
       "\n",
       "                        SOC_NAME  \\\n",
       "85514  COMPUTER SYSTEMS ANALYSTS   \n",
       "85515  COMPUTER SYSTEMS ANALYSTS   \n",
       "85516  COMPUTER SYSTEMS ANALYSTS   \n",
       "\n",
       "                                              JOB_TITLE FULL_TIME_POSITION  \\\n",
       "85514                                   SYSTEMS ANALYST                  N   \n",
       "85515                                    ADVISORY STAFF                  Y   \n",
       "85516  SENIOR BUSINESS ANALYST IN BUSINESS INTELLIGENCE                  Y   \n",
       "\n",
       "       PREVAILING_WAGE  YEAR                   WORKSITE         lon        lat  \n",
       "85514          60133.0  2016              IRVING, TEXAS  -96.948894  32.814018  \n",
       "85515          74922.0  2016  SAN FRANCISCO, CALIFORNIA -122.419415  37.774929  \n",
       "85516          78250.0  2016          DETROIT, MICHIGAN  -83.045754  42.331427  "
      ]
     },
     "execution_count": 11,
     "metadata": {},
     "output_type": "execute_result"
    }
   ],
   "source": [
    "#Verify the test data\n",
    "mydf_test.head(3)"
   ]
  },
  {
   "cell_type": "code",
   "execution_count": 12,
   "metadata": {},
   "outputs": [],
   "source": [
    "'''Writing out test data for performance evaluation'''\n",
    "mydf_test.to_csv(r\"C:\\Users\\scara\\Desktop\\Masters\\DataScience\\FinalProject\\H1b_test.csv\",index = False)"
   ]
  },
  {
   "cell_type": "markdown",
   "metadata": {},
   "source": [
    "# # Data Pre-Processing"
   ]
  },
  {
   "cell_type": "code",
   "execution_count": 13,
   "metadata": {},
   "outputs": [
    {
     "data": {
      "text/plain": [
       "<matplotlib.axes._subplots.AxesSubplot at 0x198d2be72c8>"
      ]
     },
     "execution_count": 13,
     "metadata": {},
     "output_type": "execute_result"
    },
    {
     "data": {
      "image/png": "[encoded data removed]",
      "text/plain": [
       "<Figure size 576x432 with 1 Axes>"
      ]
     },
     "metadata": {
      "needs_background": "light"
     },
     "output_type": "display_data"
    }
   ],
   "source": [
    "#Finding miising values\n",
    "null_vals = mydf_train.isnull().sum()/len(mydf_train)*100\n",
    "null_vals = pd.DataFrame(null_vals)\n",
    "null_vals.reset_index(inplace = True)\n",
    "null_vals.columns = [\"Feature\",\"Percent missing\"]\n",
    "plt.figure(figsize = (8,6))\n",
    "plt.xticks(rotation=45)\n",
    "sns.barplot(x = \"Feature\",y =\"Percent missing\",data = null_vals)"
   ]
  },
  {
   "cell_type": "code",
   "execution_count": 14,
   "metadata": {},
   "outputs": [
    {
     "name": "stdout",
     "output_type": "stream",
     "text": [
      "<class 'pandas.core.frame.DataFrame'>\n",
      "RangeIndex: 70424 entries, 0 to 70423\n",
      "Data columns (total 11 columns):\n",
      "Unnamed: 0            70424 non-null int64\n",
      "CASE_STATUS           70424 non-null object\n",
      "EMPLOYER_NAME         70423 non-null object\n",
      "SOC_NAME              70423 non-null object\n",
      "JOB_TITLE             70424 non-null object\n",
      "FULL_TIME_POSITION    70424 non-null object\n",
      "PREVAILING_WAGE       70424 non-null float64\n",
      "YEAR                  70424 non-null int64\n",
      "WORKSITE              70424 non-null object\n",
      "lon                   67713 non-null float64\n",
      "lat                   67713 non-null float64\n",
      "dtypes: float64(3), int64(2), object(6)\n",
      "memory usage: 5.9+ MB\n",
      "(70424, 9)\n"
     ]
    },
    {
     "data": {
      "text/html": [
       "<div>\n",
       "<style scoped>\n",
       "    .dataframe tbody tr th:only-of-type {\n",
       "        vertical-align: middle;\n",
       "    }\n",
       "\n",
       "    .dataframe tbody tr th {\n",
       "        vertical-align: top;\n",
       "    }\n",
       "\n",
       "    .dataframe thead th {\n",
       "        text-align: right;\n",
       "    }\n",
       "</style>\n",
       "<table border=\"1\" class=\"dataframe\">\n",
       "  <thead>\n",
       "    <tr style=\"text-align: right;\">\n",
       "      <th></th>\n",
       "      <th>Unnamed: 0</th>\n",
       "      <th>CASE_STATUS</th>\n",
       "      <th>EMPLOYER_NAME</th>\n",
       "      <th>SOC_NAME</th>\n",
       "      <th>JOB_TITLE</th>\n",
       "      <th>FULL_TIME_POSITION</th>\n",
       "      <th>PREVAILING_WAGE</th>\n",
       "      <th>YEAR</th>\n",
       "      <th>WORKSITE</th>\n",
       "    </tr>\n",
       "  </thead>\n",
       "  <tbody>\n",
       "    <tr>\n",
       "      <th>0</th>\n",
       "      <td>1</td>\n",
       "      <td>CERTIFIED-WITHDRAWN</td>\n",
       "      <td>UNIVERSITY OF MICHIGAN</td>\n",
       "      <td>BIOCHEMISTS AND BIOPHYSICISTS</td>\n",
       "      <td>POSTDOCTORAL RESEARCH FELLOW</td>\n",
       "      <td>N</td>\n",
       "      <td>36067.0</td>\n",
       "      <td>2016</td>\n",
       "      <td>ANN ARBOR, MICHIGAN</td>\n",
       "    </tr>\n",
       "    <tr>\n",
       "      <th>1</th>\n",
       "      <td>2</td>\n",
       "      <td>CERTIFIED-WITHDRAWN</td>\n",
       "      <td>GOODMAN NETWORKS, INC.</td>\n",
       "      <td>CHIEF EXECUTIVES</td>\n",
       "      <td>CHIEF OPERATING OFFICER</td>\n",
       "      <td>Y</td>\n",
       "      <td>242674.0</td>\n",
       "      <td>2016</td>\n",
       "      <td>PLANO, TEXAS</td>\n",
       "    </tr>\n",
       "  </tbody>\n",
       "</table>\n",
       "</div>"
      ],
      "text/plain": [
       "   Unnamed: 0          CASE_STATUS           EMPLOYER_NAME  \\\n",
       "0           1  CERTIFIED-WITHDRAWN  UNIVERSITY OF MICHIGAN   \n",
       "1           2  CERTIFIED-WITHDRAWN  GOODMAN NETWORKS, INC.   \n",
       "\n",
       "                        SOC_NAME                     JOB_TITLE  \\\n",
       "0  BIOCHEMISTS AND BIOPHYSICISTS  POSTDOCTORAL RESEARCH FELLOW   \n",
       "1               CHIEF EXECUTIVES       CHIEF OPERATING OFFICER   \n",
       "\n",
       "  FULL_TIME_POSITION  PREVAILING_WAGE  YEAR             WORKSITE  \n",
       "0                  N          36067.0  2016  ANN ARBOR, MICHIGAN  \n",
       "1                  Y         242674.0  2016         PLANO, TEXAS  "
      ]
     },
     "execution_count": 14,
     "metadata": {},
     "output_type": "execute_result"
    }
   ],
   "source": [
    "mydf_train.info()\n",
    "mydf_train_1 = mydf_train.drop([\"lon\",\"lat\"],axis = 1)\n",
    "print(mydf_train_1.shape)\n",
    "mydf_train_1.head(2)"
   ]
  },
  {
   "cell_type": "code",
   "execution_count": 15,
   "metadata": {},
   "outputs": [],
   "source": [
    "'''Converting object and String types to Category types'''\n",
    "def str_to_cat(my_df):\n",
    "    for p,q in my_df.items(): #my_df.items() is a generator in Python\n",
    "        if is_string_dtype(q): \n",
    "            my_df[p] = q.astype('category').cat.as_ordered()\n",
    "    return my_df"
   ]
  },
  {
   "cell_type": "code",
   "execution_count": 16,
   "metadata": {
    "scrolled": true
   },
   "outputs": [
    {
     "data": {
      "text/html": [
       "<div>\n",
       "<style scoped>\n",
       "    .dataframe tbody tr th:only-of-type {\n",
       "        vertical-align: middle;\n",
       "    }\n",
       "\n",
       "    .dataframe tbody tr th {\n",
       "        vertical-align: top;\n",
       "    }\n",
       "\n",
       "    .dataframe thead th {\n",
       "        text-align: right;\n",
       "    }\n",
       "</style>\n",
       "<table border=\"1\" class=\"dataframe\">\n",
       "  <thead>\n",
       "    <tr style=\"text-align: right;\">\n",
       "      <th></th>\n",
       "      <th>Unnamed: 0</th>\n",
       "      <th>CASE_STATUS</th>\n",
       "      <th>EMPLOYER_NAME</th>\n",
       "      <th>SOC_NAME</th>\n",
       "      <th>JOB_TITLE</th>\n",
       "      <th>FULL_TIME_POSITION</th>\n",
       "      <th>PREVAILING_WAGE</th>\n",
       "      <th>YEAR</th>\n",
       "      <th>WORKSITE</th>\n",
       "    </tr>\n",
       "  </thead>\n",
       "  <tbody>\n",
       "    <tr>\n",
       "      <th>0</th>\n",
       "      <td>1</td>\n",
       "      <td>CERTIFIED-WITHDRAWN</td>\n",
       "      <td>UNIVERSITY OF MICHIGAN</td>\n",
       "      <td>BIOCHEMISTS AND BIOPHYSICISTS</td>\n",
       "      <td>POSTDOCTORAL RESEARCH FELLOW</td>\n",
       "      <td>N</td>\n",
       "      <td>36067.0</td>\n",
       "      <td>2016</td>\n",
       "      <td>ANN ARBOR, MICHIGAN</td>\n",
       "    </tr>\n",
       "    <tr>\n",
       "      <th>1</th>\n",
       "      <td>2</td>\n",
       "      <td>CERTIFIED-WITHDRAWN</td>\n",
       "      <td>GOODMAN NETWORKS, INC.</td>\n",
       "      <td>CHIEF EXECUTIVES</td>\n",
       "      <td>CHIEF OPERATING OFFICER</td>\n",
       "      <td>Y</td>\n",
       "      <td>242674.0</td>\n",
       "      <td>2016</td>\n",
       "      <td>PLANO, TEXAS</td>\n",
       "    </tr>\n",
       "  </tbody>\n",
       "</table>\n",
       "</div>"
      ],
      "text/plain": [
       "   Unnamed: 0          CASE_STATUS           EMPLOYER_NAME  \\\n",
       "0           1  CERTIFIED-WITHDRAWN  UNIVERSITY OF MICHIGAN   \n",
       "1           2  CERTIFIED-WITHDRAWN  GOODMAN NETWORKS, INC.   \n",
       "\n",
       "                        SOC_NAME                     JOB_TITLE  \\\n",
       "0  BIOCHEMISTS AND BIOPHYSICISTS  POSTDOCTORAL RESEARCH FELLOW   \n",
       "1               CHIEF EXECUTIVES       CHIEF OPERATING OFFICER   \n",
       "\n",
       "  FULL_TIME_POSITION  PREVAILING_WAGE  YEAR             WORKSITE  \n",
       "0                  N          36067.0  2016  ANN ARBOR, MICHIGAN  \n",
       "1                  Y         242674.0  2016         PLANO, TEXAS  "
      ]
     },
     "execution_count": 16,
     "metadata": {},
     "output_type": "execute_result"
    }
   ],
   "source": [
    "# Apply the str_to_cat function\n",
    "mydf_train_2 = str_to_cat(mydf_train_1)\n",
    "mydf_train_2.head(2)"
   ]
  },
  {
   "cell_type": "code",
   "execution_count": 17,
   "metadata": {},
   "outputs": [
    {
     "name": "stdout",
     "output_type": "stream",
     "text": [
      "<class 'pandas.core.frame.DataFrame'>\n",
      "RangeIndex: 70424 entries, 0 to 70423\n",
      "Data columns (total 9 columns):\n",
      "Unnamed: 0            70424 non-null int64\n",
      "CASE_STATUS           70424 non-null category\n",
      "EMPLOYER_NAME         70423 non-null category\n",
      "SOC_NAME              70423 non-null category\n",
      "JOB_TITLE             70424 non-null category\n",
      "FULL_TIME_POSITION    70424 non-null category\n",
      "PREVAILING_WAGE       70424 non-null float64\n",
      "YEAR                  70424 non-null int64\n",
      "WORKSITE              70424 non-null category\n",
      "dtypes: category(6), float64(1), int64(2)\n",
      "memory usage: 4.1 MB\n"
     ]
    }
   ],
   "source": [
    "mydf_train_2.info()"
   ]
  },
  {
   "cell_type": "code",
   "execution_count": 18,
   "metadata": {},
   "outputs": [],
   "source": [
    "def mydf_to_nums(my_df, feature, null_status):\n",
    "    if not is_numeric_dtype(feature):\n",
    "        my_df[null_status] = feature.cat.codes + 1\n",
    "        \n",
    "def mydf_imputer(my_df, feature, null_status, null_table):\n",
    "    if is_numeric_dtype(feature):\n",
    "        if pd.isnull(feature).sum() or (null_status in null_table):\n",
    "            my_df[null_status+'_na'] = pd.isnull(feature)\n",
    "            filler = null_table[null_status] if null_status in null_table else feature.median()\n",
    "            my_df[null_status] = feature.fillna(filler)\n",
    "            null_table[null_status] = filler\n",
    "    return null_table   \n",
    "\n",
    "def mydf_preprocessor(my_df, null_table):\n",
    "    if null_table is None: \n",
    "        null_table = dict()\n",
    "    for p,q in my_df.items(): \n",
    "        null_table = mydf_imputer(my_df, q, p, null_table)\n",
    "    for p,q in my_df.items(): \n",
    "        mydf_to_nums(my_df, q, p)\n",
    "    my_df = pd.get_dummies(my_df, dummy_na = True)\n",
    "    res = [my_df, null_table]\n",
    "    return res"
   ]
  },
  {
   "cell_type": "code",
   "execution_count": 19,
   "metadata": {},
   "outputs": [],
   "source": [
    "mydf_train_3,my_table = mydf_preprocessor(mydf_train_2,null_table = None)"
   ]
  },
  {
   "cell_type": "code",
   "execution_count": 20,
   "metadata": {},
   "outputs": [
    {
     "data": {
      "text/html": [
       "<div>\n",
       "<style scoped>\n",
       "    .dataframe tbody tr th:only-of-type {\n",
       "        vertical-align: middle;\n",
       "    }\n",
       "\n",
       "    .dataframe tbody tr th {\n",
       "        vertical-align: top;\n",
       "    }\n",
       "\n",
       "    .dataframe thead th {\n",
       "        text-align: right;\n",
       "    }\n",
       "</style>\n",
       "<table border=\"1\" class=\"dataframe\">\n",
       "  <thead>\n",
       "    <tr style=\"text-align: right;\">\n",
       "      <th></th>\n",
       "      <th>Unnamed: 0</th>\n",
       "      <th>CASE_STATUS</th>\n",
       "      <th>EMPLOYER_NAME</th>\n",
       "      <th>SOC_NAME</th>\n",
       "      <th>JOB_TITLE</th>\n",
       "      <th>FULL_TIME_POSITION</th>\n",
       "      <th>PREVAILING_WAGE</th>\n",
       "      <th>YEAR</th>\n",
       "      <th>WORKSITE</th>\n",
       "    </tr>\n",
       "  </thead>\n",
       "  <tbody>\n",
       "    <tr>\n",
       "      <th>0</th>\n",
       "      <td>1</td>\n",
       "      <td>2</td>\n",
       "      <td>23100</td>\n",
       "      <td>13</td>\n",
       "      <td>12405</td>\n",
       "      <td>1</td>\n",
       "      <td>36067.0</td>\n",
       "      <td>2016</td>\n",
       "      <td>79</td>\n",
       "    </tr>\n",
       "    <tr>\n",
       "      <th>1</th>\n",
       "      <td>2</td>\n",
       "      <td>2</td>\n",
       "      <td>9182</td>\n",
       "      <td>19</td>\n",
       "      <td>3154</td>\n",
       "      <td>2</td>\n",
       "      <td>242674.0</td>\n",
       "      <td>2016</td>\n",
       "      <td>2545</td>\n",
       "    </tr>\n",
       "  </tbody>\n",
       "</table>\n",
       "</div>"
      ],
      "text/plain": [
       "   Unnamed: 0  CASE_STATUS  EMPLOYER_NAME  SOC_NAME  JOB_TITLE  \\\n",
       "0           1            2          23100        13      12405   \n",
       "1           2            2           9182        19       3154   \n",
       "\n",
       "   FULL_TIME_POSITION  PREVAILING_WAGE  YEAR  WORKSITE  \n",
       "0                   1          36067.0  2016        79  \n",
       "1                   2         242674.0  2016      2545  "
      ]
     },
     "execution_count": 20,
     "metadata": {},
     "output_type": "execute_result"
    }
   ],
   "source": [
    "#Check dataframe\n",
    "mydf_train_3.head(2)"
   ]
  },
  {
   "cell_type": "code",
   "execution_count": 21,
   "metadata": {},
   "outputs": [
    {
     "data": {
      "text/plain": [
       "{}"
      ]
     },
     "execution_count": 21,
     "metadata": {},
     "output_type": "execute_result"
    }
   ],
   "source": [
    "my_table"
   ]
  },
  {
   "cell_type": "code",
   "execution_count": 22,
   "metadata": {},
   "outputs": [
    {
     "data": {
      "text/plain": [
       "<matplotlib.axes._subplots.AxesSubplot at 0x198d2e12b48>"
      ]
     },
     "execution_count": 22,
     "metadata": {},
     "output_type": "execute_result"
    },
    {
     "data": {
      "image/png": "[encoded data removed]",
      "text/plain": [
       "<Figure size 576x432 with 1 Axes>"
      ]
     },
     "metadata": {
      "needs_background": "light"
     },
     "output_type": "display_data"
    }
   ],
   "source": [
    "#Finding miising values\n",
    "null_vals = mydf_train_1.isnull().sum()/len(mydf_train_1)*100\n",
    "null_vals = pd.DataFrame(null_vals)\n",
    "null_vals.reset_index(inplace = True)\n",
    "null_vals.columns = [\"Feature\",\"Percent missing\"]\n",
    "plt.figure(figsize = (8,6))\n",
    "plt.xticks(rotation=45)\n",
    "sns.barplot(x = \"Feature\",y =\"Percent missing\",data = null_vals)"
   ]
  },
  {
   "cell_type": "code",
   "execution_count": 23,
   "metadata": {},
   "outputs": [
    {
     "name": "stdout",
     "output_type": "stream",
     "text": [
      "(70424, 8) (70424,)\n"
     ]
    }
   ],
   "source": [
    "Y_train = mydf_train_2[\"CASE_STATUS\"]\n",
    "X_train = mydf_train_2.drop([\"CASE_STATUS\"],axis = 1)\n",
    "\n",
    "print(X_train.shape,Y_train.shape)"
   ]
  },
  {
   "cell_type": "code",
   "execution_count": 24,
   "metadata": {},
   "outputs": [
    {
     "data": {
      "text/html": [
       "<div>\n",
       "<style scoped>\n",
       "    .dataframe tbody tr th:only-of-type {\n",
       "        vertical-align: middle;\n",
       "    }\n",
       "\n",
       "    .dataframe tbody tr th {\n",
       "        vertical-align: top;\n",
       "    }\n",
       "\n",
       "    .dataframe thead th {\n",
       "        text-align: right;\n",
       "    }\n",
       "</style>\n",
       "<table border=\"1\" class=\"dataframe\">\n",
       "  <thead>\n",
       "    <tr style=\"text-align: right;\">\n",
       "      <th></th>\n",
       "      <th>Unnamed: 0</th>\n",
       "      <th>EMPLOYER_NAME</th>\n",
       "      <th>SOC_NAME</th>\n",
       "      <th>JOB_TITLE</th>\n",
       "      <th>FULL_TIME_POSITION</th>\n",
       "      <th>PREVAILING_WAGE</th>\n",
       "      <th>YEAR</th>\n",
       "      <th>WORKSITE</th>\n",
       "    </tr>\n",
       "  </thead>\n",
       "  <tbody>\n",
       "    <tr>\n",
       "      <th>0</th>\n",
       "      <td>1</td>\n",
       "      <td>23100</td>\n",
       "      <td>13</td>\n",
       "      <td>12405</td>\n",
       "      <td>1</td>\n",
       "      <td>-0.030679</td>\n",
       "      <td>2016</td>\n",
       "      <td>79</td>\n",
       "    </tr>\n",
       "    <tr>\n",
       "      <th>1</th>\n",
       "      <td>2</td>\n",
       "      <td>9182</td>\n",
       "      <td>19</td>\n",
       "      <td>3154</td>\n",
       "      <td>2</td>\n",
       "      <td>0.068753</td>\n",
       "      <td>2016</td>\n",
       "      <td>2545</td>\n",
       "    </tr>\n",
       "  </tbody>\n",
       "</table>\n",
       "</div>"
      ],
      "text/plain": [
       "   Unnamed: 0  EMPLOYER_NAME  SOC_NAME  JOB_TITLE  FULL_TIME_POSITION  \\\n",
       "0           1          23100        13      12405                   1   \n",
       "1           2           9182        19       3154                   2   \n",
       "\n",
       "   PREVAILING_WAGE  YEAR  WORKSITE  \n",
       "0        -0.030679  2016        79  \n",
       "1         0.068753  2016      2545  "
      ]
     },
     "execution_count": 24,
     "metadata": {},
     "output_type": "execute_result"
    }
   ],
   "source": [
    "#Fitting the model\n",
    "scaler = preprocessing.StandardScaler().fit(X_train[[\"PREVAILING_WAGE\"]])\n",
    "X_train[[\"PREVAILING_WAGE\"]] = pd.DataFrame(scaler.transform(X_train[[\"PREVAILING_WAGE\"]]))\n",
    "X_train.head(2)"
   ]
  },
  {
   "cell_type": "code",
   "execution_count": 25,
   "metadata": {},
   "outputs": [
    {
     "data": {
      "text/plain": [
       "['C:\\\\Users\\\\scara\\\\Desktop\\\\Masters\\\\DataScience\\\\FinalProject\\\\scaler_trainset\\\\scaler_train.sav']"
      ]
     },
     "execution_count": 25,
     "metadata": {},
     "output_type": "execute_result"
    }
   ],
   "source": [
    "'''Store the scaler as a joblib file'''\n",
    "!mkdir scaler_trainset\n",
    "scaler_name = r'C:\\Users\\scara\\Desktop\\Masters\\DataScience\\FinalProject\\scaler_trainset\\scaler_train.sav'\n",
    "joblib.dump(scaler,scaler_name)"
   ]
  },
  {
   "cell_type": "code",
   "execution_count": 26,
   "metadata": {},
   "outputs": [],
   "source": [
    "'''Preprocess the validation set'''\n",
    "mydf_valid_1 = mydf_valid.drop([\"lon\",\"lat\"],axis = 1)"
   ]
  },
  {
   "cell_type": "code",
   "execution_count": 27,
   "metadata": {},
   "outputs": [
    {
     "data": {
      "text/html": [
       "<div>\n",
       "<style scoped>\n",
       "    .dataframe tbody tr th:only-of-type {\n",
       "        vertical-align: middle;\n",
       "    }\n",
       "\n",
       "    .dataframe tbody tr th {\n",
       "        vertical-align: top;\n",
       "    }\n",
       "\n",
       "    .dataframe thead th {\n",
       "        text-align: right;\n",
       "    }\n",
       "</style>\n",
       "<table border=\"1\" class=\"dataframe\">\n",
       "  <thead>\n",
       "    <tr style=\"text-align: right;\">\n",
       "      <th></th>\n",
       "      <th>Unnamed: 0</th>\n",
       "      <th>CASE_STATUS</th>\n",
       "      <th>EMPLOYER_NAME</th>\n",
       "      <th>SOC_NAME</th>\n",
       "      <th>JOB_TITLE</th>\n",
       "      <th>FULL_TIME_POSITION</th>\n",
       "      <th>PREVAILING_WAGE</th>\n",
       "      <th>YEAR</th>\n",
       "      <th>WORKSITE</th>\n",
       "    </tr>\n",
       "  </thead>\n",
       "  <tbody>\n",
       "    <tr>\n",
       "      <th>70424</th>\n",
       "      <td>70425</td>\n",
       "      <td>CERTIFIED</td>\n",
       "      <td>GRAND BK CORP</td>\n",
       "      <td>FINANCIAL ANALYSTS</td>\n",
       "      <td>CORPORATE FINANCIAL ANALYST FOR INTERNATIONAL ...</td>\n",
       "      <td>N</td>\n",
       "      <td>65187.2</td>\n",
       "      <td>2016</td>\n",
       "      <td>MASPETH, NEW YORK</td>\n",
       "    </tr>\n",
       "    <tr>\n",
       "      <th>70425</th>\n",
       "      <td>70426</td>\n",
       "      <td>CERTIFIED</td>\n",
       "      <td>JPMORGAN CHASE &amp; CO.</td>\n",
       "      <td>FINANCIAL ANALYSTS</td>\n",
       "      <td>ANALYST</td>\n",
       "      <td>Y</td>\n",
       "      <td>72800.0</td>\n",
       "      <td>2016</td>\n",
       "      <td>SAN FRANCISCO, CALIFORNIA</td>\n",
       "    </tr>\n",
       "  </tbody>\n",
       "</table>\n",
       "</div>"
      ],
      "text/plain": [
       "       Unnamed: 0 CASE_STATUS         EMPLOYER_NAME            SOC_NAME  \\\n",
       "70424       70425   CERTIFIED         GRAND BK CORP  FINANCIAL ANALYSTS   \n",
       "70425       70426   CERTIFIED  JPMORGAN CHASE & CO.  FINANCIAL ANALYSTS   \n",
       "\n",
       "                                               JOB_TITLE FULL_TIME_POSITION  \\\n",
       "70424  CORPORATE FINANCIAL ANALYST FOR INTERNATIONAL ...                  N   \n",
       "70425                                            ANALYST                  Y   \n",
       "\n",
       "       PREVAILING_WAGE  YEAR                   WORKSITE  \n",
       "70424          65187.2  2016          MASPETH, NEW YORK  \n",
       "70425          72800.0  2016  SAN FRANCISCO, CALIFORNIA  "
      ]
     },
     "execution_count": 27,
     "metadata": {},
     "output_type": "execute_result"
    }
   ],
   "source": [
    "#Check valid data\n",
    "mydf_valid_1.head(2)"
   ]
  },
  {
   "cell_type": "code",
   "execution_count": 28,
   "metadata": {},
   "outputs": [
    {
     "data": {
      "text/plain": [
       "<matplotlib.axes._subplots.AxesSubplot at 0x198d5df1708>"
      ]
     },
     "execution_count": 28,
     "metadata": {},
     "output_type": "execute_result"
    },
    {
     "data": {
      "image/png": "[encoded data removed]",
      "text/plain": [
       "<Figure size 576x432 with 1 Axes>"
      ]
     },
     "metadata": {
      "needs_background": "light"
     },
     "output_type": "display_data"
    }
   ],
   "source": [
    "#Finding missing values\n",
    "null_vals = mydf_valid_1.isnull().sum()/len(mydf_valid_1)*100\n",
    "null_vals = pd.DataFrame(null_vals)\n",
    "null_vals.reset_index(inplace = True)\n",
    "null_vals.columns = [\"Feature\",\"Percent missing\"]\n",
    "plt.figure(figsize = (8,6))\n",
    "plt.xticks(rotation=45)\n",
    "sns.barplot(x = \"Feature\",y =\"Percent missing\",data = null_vals)"
   ]
  },
  {
   "cell_type": "code",
   "execution_count": 29,
   "metadata": {},
   "outputs": [],
   "source": [
    "'''(3) Map categories to numbers for validation set'''\n",
    "mydf_valid_2 = str_to_cat(mydf_valid_1)"
   ]
  },
  {
   "cell_type": "code",
   "execution_count": 30,
   "metadata": {},
   "outputs": [
    {
     "name": "stdout",
     "output_type": "stream",
     "text": [
      "<class 'pandas.core.frame.DataFrame'>\n",
      "RangeIndex: 15090 entries, 70424 to 85513\n",
      "Data columns (total 9 columns):\n",
      "Unnamed: 0            15090 non-null int64\n",
      "CASE_STATUS           15090 non-null category\n",
      "EMPLOYER_NAME         15089 non-null category\n",
      "SOC_NAME              15090 non-null category\n",
      "JOB_TITLE             15090 non-null category\n",
      "FULL_TIME_POSITION    15090 non-null category\n",
      "PREVAILING_WAGE       15090 non-null float64\n",
      "YEAR                  15090 non-null int64\n",
      "WORKSITE              15090 non-null category\n",
      "dtypes: category(6), float64(1), int64(2)\n",
      "memory usage: 933.5 KB\n"
     ]
    }
   ],
   "source": [
    "mydf_valid_2.info()"
   ]
  },
  {
   "cell_type": "code",
   "execution_count": 31,
   "metadata": {},
   "outputs": [
    {
     "name": "stdout",
     "output_type": "stream",
     "text": [
      "Index(['CERTIFIED', 'CERTIFIED-WITHDRAWN', 'DENIED', 'WITHDRAWN'], dtype='object')\n"
     ]
    }
   ],
   "source": [
    "#Make sure category mapping are consistent across the two data sets\n",
    "print(mydf_valid_2.CASE_STATUS.cat.categories)"
   ]
  },
  {
   "cell_type": "code",
   "execution_count": 32,
   "metadata": {},
   "outputs": [
    {
     "name": "stdout",
     "output_type": "stream",
     "text": [
      "(15090, 9)\n"
     ]
    },
    {
     "data": {
      "text/html": [
       "<div>\n",
       "<style scoped>\n",
       "    .dataframe tbody tr th:only-of-type {\n",
       "        vertical-align: middle;\n",
       "    }\n",
       "\n",
       "    .dataframe tbody tr th {\n",
       "        vertical-align: top;\n",
       "    }\n",
       "\n",
       "    .dataframe thead th {\n",
       "        text-align: right;\n",
       "    }\n",
       "</style>\n",
       "<table border=\"1\" class=\"dataframe\">\n",
       "  <thead>\n",
       "    <tr style=\"text-align: right;\">\n",
       "      <th></th>\n",
       "      <th>Unnamed: 0</th>\n",
       "      <th>CASE_STATUS</th>\n",
       "      <th>EMPLOYER_NAME</th>\n",
       "      <th>SOC_NAME</th>\n",
       "      <th>JOB_TITLE</th>\n",
       "      <th>FULL_TIME_POSITION</th>\n",
       "      <th>PREVAILING_WAGE</th>\n",
       "      <th>YEAR</th>\n",
       "      <th>WORKSITE</th>\n",
       "    </tr>\n",
       "  </thead>\n",
       "  <tbody>\n",
       "    <tr>\n",
       "      <th>70424</th>\n",
       "      <td>70425</td>\n",
       "      <td>1</td>\n",
       "      <td>1899</td>\n",
       "      <td>39</td>\n",
       "      <td>1095</td>\n",
       "      <td>1</td>\n",
       "      <td>65187.2</td>\n",
       "      <td>2016</td>\n",
       "      <td>669</td>\n",
       "    </tr>\n",
       "    <tr>\n",
       "      <th>70425</th>\n",
       "      <td>70426</td>\n",
       "      <td>1</td>\n",
       "      <td>2369</td>\n",
       "      <td>39</td>\n",
       "      <td>89</td>\n",
       "      <td>2</td>\n",
       "      <td>72800.0</td>\n",
       "      <td>2016</td>\n",
       "      <td>1014</td>\n",
       "    </tr>\n",
       "    <tr>\n",
       "      <th>70426</th>\n",
       "      <td>70427</td>\n",
       "      <td>1</td>\n",
       "      <td>1076</td>\n",
       "      <td>39</td>\n",
       "      <td>3998</td>\n",
       "      <td>1</td>\n",
       "      <td>51355.0</td>\n",
       "      <td>2016</td>\n",
       "      <td>826</td>\n",
       "    </tr>\n",
       "  </tbody>\n",
       "</table>\n",
       "</div>"
      ],
      "text/plain": [
       "       Unnamed: 0  CASE_STATUS  EMPLOYER_NAME  SOC_NAME  JOB_TITLE  \\\n",
       "70424       70425            1           1899        39       1095   \n",
       "70425       70426            1           2369        39         89   \n",
       "70426       70427            1           1076        39       3998   \n",
       "\n",
       "       FULL_TIME_POSITION  PREVAILING_WAGE  YEAR  WORKSITE  \n",
       "70424                   1          65187.2  2016       669  \n",
       "70425                   2          72800.0  2016      1014  \n",
       "70426                   1          51355.0  2016       826  "
      ]
     },
     "execution_count": 32,
     "metadata": {},
     "output_type": "execute_result"
    }
   ],
   "source": [
    "mydf_valid_3,my_table1 = mydf_preprocessor(mydf_valid_2,\n",
    "                                         null_table = my_table)\n",
    "print(mydf_valid_3.shape)\n",
    "mydf_valid_3.head(3)"
   ]
  },
  {
   "cell_type": "code",
   "execution_count": 33,
   "metadata": {},
   "outputs": [
    {
     "data": {
      "text/html": [
       "<div>\n",
       "<style scoped>\n",
       "    .dataframe tbody tr th:only-of-type {\n",
       "        vertical-align: middle;\n",
       "    }\n",
       "\n",
       "    .dataframe tbody tr th {\n",
       "        vertical-align: top;\n",
       "    }\n",
       "\n",
       "    .dataframe thead th {\n",
       "        text-align: right;\n",
       "    }\n",
       "</style>\n",
       "<table border=\"1\" class=\"dataframe\">\n",
       "  <thead>\n",
       "    <tr style=\"text-align: right;\">\n",
       "      <th></th>\n",
       "      <th>Unnamed: 0</th>\n",
       "      <th>CASE_STATUS</th>\n",
       "      <th>EMPLOYER_NAME</th>\n",
       "      <th>SOC_NAME</th>\n",
       "      <th>JOB_TITLE</th>\n",
       "      <th>FULL_TIME_POSITION</th>\n",
       "      <th>PREVAILING_WAGE</th>\n",
       "      <th>YEAR</th>\n",
       "      <th>WORKSITE</th>\n",
       "    </tr>\n",
       "  </thead>\n",
       "  <tbody>\n",
       "    <tr>\n",
       "      <th>0</th>\n",
       "      <td>1</td>\n",
       "      <td>2</td>\n",
       "      <td>23100</td>\n",
       "      <td>13</td>\n",
       "      <td>12405</td>\n",
       "      <td>1</td>\n",
       "      <td>36067.0</td>\n",
       "      <td>2016</td>\n",
       "      <td>79</td>\n",
       "    </tr>\n",
       "    <tr>\n",
       "      <th>1</th>\n",
       "      <td>2</td>\n",
       "      <td>2</td>\n",
       "      <td>9182</td>\n",
       "      <td>19</td>\n",
       "      <td>3154</td>\n",
       "      <td>2</td>\n",
       "      <td>242674.0</td>\n",
       "      <td>2016</td>\n",
       "      <td>2545</td>\n",
       "    </tr>\n",
       "  </tbody>\n",
       "</table>\n",
       "</div>"
      ],
      "text/plain": [
       "   Unnamed: 0  CASE_STATUS  EMPLOYER_NAME  SOC_NAME  JOB_TITLE  \\\n",
       "0           1            2          23100        13      12405   \n",
       "1           2            2           9182        19       3154   \n",
       "\n",
       "   FULL_TIME_POSITION  PREVAILING_WAGE  YEAR  WORKSITE  \n",
       "0                   1          36067.0  2016        79  \n",
       "1                   2         242674.0  2016      2545  "
      ]
     },
     "execution_count": 33,
     "metadata": {},
     "output_type": "execute_result"
    }
   ],
   "source": [
    "#Check dataframe\n",
    "mydf_train_3.head(2)"
   ]
  },
  {
   "cell_type": "code",
   "execution_count": 34,
   "metadata": {},
   "outputs": [],
   "source": [
    "#grid search\n",
    "from sklearn.model_selection import GridSearchCV\n",
    "from sklearn import neighbors"
   ]
  },
  {
   "cell_type": "code",
   "execution_count": 35,
   "metadata": {},
   "outputs": [],
   "source": [
    "#Tuning hyperparameters\n",
    "param_grid={\n",
    "    'n_neighbors':[7],\n",
    "    'weights':['uniform'],\n",
    "    'metric':['euclidean']\n",
    "}"
   ]
  },
  {
   "cell_type": "code",
   "execution_count": 36,
   "metadata": {},
   "outputs": [],
   "source": [
    "gs=GridSearchCV(KNeighborsClassifier(),param_grid,verbose=1,cv=3,n_jobs=-1)"
   ]
  },
  {
   "cell_type": "code",
   "execution_count": 37,
   "metadata": {
    "scrolled": true
   },
   "outputs": [
    {
     "name": "stdout",
     "output_type": "stream",
     "text": [
      "(70424, 8) (70424,)\n"
     ]
    }
   ],
   "source": [
    "'''(5) Separate out the X and Y for validation before proceeding'''\n",
    "\n",
    "Y_valid = mydf_train_3[\"CASE_STATUS\"]\n",
    "X_valid = mydf_train_3.drop([\"CASE_STATUS\"],axis = 1)\n",
    "\n",
    "print(X_valid.shape,Y_valid.shape)"
   ]
  },
  {
   "cell_type": "code",
   "execution_count": 38,
   "metadata": {},
   "outputs": [
    {
     "name": "stdout",
     "output_type": "stream",
     "text": [
      "Fitting 3 folds for each of 1 candidates, totalling 3 fits\n"
     ]
    },
    {
     "name": "stderr",
     "output_type": "stream",
     "text": [
      "[Parallel(n_jobs=-1)]: Using backend LokyBackend with 8 concurrent workers.\n",
      "[Parallel(n_jobs=-1)]: Done   3 out of   3 | elapsed:   12.4s finished\n"
     ]
    }
   ],
   "source": [
    "#Fitting the KNN model:\n",
    "my_knn_model=GridSearchCV(KNeighborsClassifier(),param_grid,verbose=1,cv=3,n_jobs=-1)\n",
    "my_knn_results=my_knn_model.fit(X_train,Y_train)\n",
    "Y_test_pred = my_knn_results.predict(X_valid)"
   ]
  },
  {
   "cell_type": "code",
   "execution_count": 39,
   "metadata": {},
   "outputs": [
    {
     "data": {
      "text/plain": [
       "<matplotlib.axes._subplots.AxesSubplot at 0x198d748adc8>"
      ]
     },
     "execution_count": 39,
     "metadata": {},
     "output_type": "execute_result"
    },
    {
     "data": {
      "image/png": "[encoded data removed]",
      "text/plain": [
       "<Figure size 576x576 with 2 Axes>"
      ]
     },
     "metadata": {
      "needs_background": "light"
     },
     "output_type": "display_data"
    }
   ],
   "source": [
    "# Plot confusion matrix\n",
    "from sklearn.metrics import confusion_matrix\n",
    "\n",
    "my_knn_cmatrix = confusion_matrix(Y_train,Y_test_pred)\n",
    "\n",
    "my_knn_df = pd.DataFrame(my_knn_cmatrix)\n",
    "plt.figure(figsize = (8,8))\n",
    "sns.heatmap(my_knn_df, xticklabels = [\"Unlucky\",\"Lucky\"],\n",
    "            yticklabels = [\"Unlucky\",\"Lucky\"],annot = True)"
   ]
  },
  {
   "cell_type": "code",
   "execution_count": 40,
   "metadata": {},
   "outputs": [
    {
     "name": "stdout",
     "output_type": "stream",
     "text": [
      "Accuracy :  0.8851953879359309\n"
     ]
    }
   ],
   "source": [
    "#Printing the metrics\n",
    "print(\"Accuracy : \",accuracy_score(Y_train,Y_test_pred))    "
   ]
  },
  {
   "cell_type": "code",
   "execution_count": 41,
   "metadata": {},
   "outputs": [
    {
     "name": "stdout",
     "output_type": "stream",
     "text": [
      "Mathews Score :  0.30873766433576333\n"
     ]
    }
   ],
   "source": [
    "print(\"Mathews Score : \",matthews_corrcoef(Y_train,Y_test_pred))"
   ]
  },
  {
   "cell_type": "code",
   "execution_count": 42,
   "metadata": {},
   "outputs": [
    {
     "name": "stdout",
     "output_type": "stream",
     "text": [
      "F1 Score :  0.8851953879359309\n"
     ]
    },
    {
     "name": "stderr",
     "output_type": "stream",
     "text": [
      "C:\\Users\\scara\\Anaconda3\\lib\\site-packages\\sklearn\\metrics\\_classification.py:1321: UserWarning: Note that pos_label (set to 'positive') is ignored when average != 'binary' (got 'micro'). You may use labels=[pos_label] to specify a single positive class.\n",
      "  % (pos_label, average), UserWarning)\n"
     ]
    }
   ],
   "source": [
    "print(\"F1 Score : \",f1_score(Y_train,Y_test_pred,pos_label='positive',\n",
    "                                           average='micro'))"
   ]
  },
  {
   "cell_type": "markdown",
   "metadata": {},
   "source": [
    "# Combining the train and validation datasets"
   ]
  },
  {
   "cell_type": "code",
   "execution_count": 43,
   "metadata": {},
   "outputs": [
    {
     "name": "stdout",
     "output_type": "stream",
     "text": [
      "(70424, 8)\n",
      "(70424, 8)\n",
      "(140848, 8)\n"
     ]
    },
    {
     "data": {
      "text/html": [
       "<div>\n",
       "<style scoped>\n",
       "    .dataframe tbody tr th:only-of-type {\n",
       "        vertical-align: middle;\n",
       "    }\n",
       "\n",
       "    .dataframe tbody tr th {\n",
       "        vertical-align: top;\n",
       "    }\n",
       "\n",
       "    .dataframe thead th {\n",
       "        text-align: right;\n",
       "    }\n",
       "</style>\n",
       "<table border=\"1\" class=\"dataframe\">\n",
       "  <thead>\n",
       "    <tr style=\"text-align: right;\">\n",
       "      <th></th>\n",
       "      <th>Unnamed: 0</th>\n",
       "      <th>EMPLOYER_NAME</th>\n",
       "      <th>SOC_NAME</th>\n",
       "      <th>JOB_TITLE</th>\n",
       "      <th>FULL_TIME_POSITION</th>\n",
       "      <th>PREVAILING_WAGE</th>\n",
       "      <th>YEAR</th>\n",
       "      <th>WORKSITE</th>\n",
       "    </tr>\n",
       "  </thead>\n",
       "  <tbody>\n",
       "    <tr>\n",
       "      <th>0</th>\n",
       "      <td>1</td>\n",
       "      <td>23100</td>\n",
       "      <td>13</td>\n",
       "      <td>12405</td>\n",
       "      <td>1</td>\n",
       "      <td>-0.030679</td>\n",
       "      <td>2016</td>\n",
       "      <td>79</td>\n",
       "    </tr>\n",
       "    <tr>\n",
       "      <th>1</th>\n",
       "      <td>2</td>\n",
       "      <td>9182</td>\n",
       "      <td>19</td>\n",
       "      <td>3154</td>\n",
       "      <td>2</td>\n",
       "      <td>0.068753</td>\n",
       "      <td>2016</td>\n",
       "      <td>2545</td>\n",
       "    </tr>\n",
       "  </tbody>\n",
       "</table>\n",
       "</div>"
      ],
      "text/plain": [
       "   Unnamed: 0  EMPLOYER_NAME  SOC_NAME  JOB_TITLE  FULL_TIME_POSITION  \\\n",
       "0           1          23100        13      12405                   1   \n",
       "1           2           9182        19       3154                   2   \n",
       "\n",
       "   PREVAILING_WAGE  YEAR  WORKSITE  \n",
       "0        -0.030679  2016        79  \n",
       "1         0.068753  2016      2545  "
      ]
     },
     "execution_count": 43,
     "metadata": {},
     "output_type": "execute_result"
    }
   ],
   "source": [
    "X_train_full = pd.concat([X_train,X_valid],ignore_index = True)\n",
    "print(X_valid.shape)\n",
    "print(X_train.shape)\n",
    "print(X_train_full.shape)\n",
    "X_train_full.head(2)"
   ]
  },
  {
   "cell_type": "code",
   "execution_count": 44,
   "metadata": {},
   "outputs": [
    {
     "name": "stdout",
     "output_type": "stream",
     "text": [
      "(140848,)\n"
     ]
    }
   ],
   "source": [
    "# Do the same for Y\n",
    "Y_train_full = pd.concat([Y_train,Y_valid],ignore_index = True)\n",
    "print(Y_train_full.shape)"
   ]
  },
  {
   "cell_type": "markdown",
   "metadata": {},
   "source": [
    "# Building and Saving the trained model"
   ]
  },
  {
   "cell_type": "code",
   "execution_count": 45,
   "metadata": {},
   "outputs": [
    {
     "data": {
      "text/plain": [
       "['C:\\\\Users\\\\scara\\\\Desktop\\\\Masters\\\\DataScience\\\\FinalProject\\\\knn_model_final.sav']"
      ]
     },
     "execution_count": 45,
     "metadata": {},
     "output_type": "execute_result"
    }
   ],
   "source": [
    "knn_model_fin = KNeighborsClassifier(n_neighbors = 2,weights = 'uniform')\n",
    "knn_model_fin.fit(X_train_full,Y_train_full)\n",
    "\n",
    "!mkdir knn_model\n",
    "knn_model_name = f'{path}\\knn_model_final.sav'\n",
    "joblib.dump(knn_model_fin,knn_model_name)"
   ]
  },
  {
   "cell_type": "code",
   "execution_count": 46,
   "metadata": {},
   "outputs": [
    {
     "name": "stdout",
     "output_type": "stream",
     "text": [
      "(15091, 11)\n"
     ]
    },
    {
     "data": {
      "text/html": [
       "<div>\n",
       "<style scoped>\n",
       "    .dataframe tbody tr th:only-of-type {\n",
       "        vertical-align: middle;\n",
       "    }\n",
       "\n",
       "    .dataframe tbody tr th {\n",
       "        vertical-align: top;\n",
       "    }\n",
       "\n",
       "    .dataframe thead th {\n",
       "        text-align: right;\n",
       "    }\n",
       "</style>\n",
       "<table border=\"1\" class=\"dataframe\">\n",
       "  <thead>\n",
       "    <tr style=\"text-align: right;\">\n",
       "      <th></th>\n",
       "      <th>Unnamed: 0</th>\n",
       "      <th>CASE_STATUS</th>\n",
       "      <th>EMPLOYER_NAME</th>\n",
       "      <th>SOC_NAME</th>\n",
       "      <th>JOB_TITLE</th>\n",
       "      <th>FULL_TIME_POSITION</th>\n",
       "      <th>PREVAILING_WAGE</th>\n",
       "      <th>YEAR</th>\n",
       "      <th>WORKSITE</th>\n",
       "      <th>lon</th>\n",
       "      <th>lat</th>\n",
       "    </tr>\n",
       "  </thead>\n",
       "  <tbody>\n",
       "    <tr>\n",
       "      <th>0</th>\n",
       "      <td>85515</td>\n",
       "      <td>CERTIFIED</td>\n",
       "      <td>ANVETA, INC.</td>\n",
       "      <td>COMPUTER SYSTEMS ANALYSTS</td>\n",
       "      <td>SYSTEMS ANALYST</td>\n",
       "      <td>N</td>\n",
       "      <td>60133.0</td>\n",
       "      <td>2016</td>\n",
       "      <td>IRVING, TEXAS</td>\n",
       "      <td>-96.948894</td>\n",
       "      <td>32.814018</td>\n",
       "    </tr>\n",
       "    <tr>\n",
       "      <th>1</th>\n",
       "      <td>85516</td>\n",
       "      <td>CERTIFIED</td>\n",
       "      <td>ERNST &amp; YOUNG U.S. LLP</td>\n",
       "      <td>COMPUTER SYSTEMS ANALYSTS</td>\n",
       "      <td>ADVISORY STAFF</td>\n",
       "      <td>Y</td>\n",
       "      <td>74922.0</td>\n",
       "      <td>2016</td>\n",
       "      <td>SAN FRANCISCO, CALIFORNIA</td>\n",
       "      <td>-122.419415</td>\n",
       "      <td>37.774929</td>\n",
       "    </tr>\n",
       "    <tr>\n",
       "      <th>2</th>\n",
       "      <td>85517</td>\n",
       "      <td>CERTIFIED</td>\n",
       "      <td>QUICKEN LOANS INC.</td>\n",
       "      <td>COMPUTER SYSTEMS ANALYSTS</td>\n",
       "      <td>SENIOR BUSINESS ANALYST IN BUSINESS INTELLIGENCE</td>\n",
       "      <td>Y</td>\n",
       "      <td>78250.0</td>\n",
       "      <td>2016</td>\n",
       "      <td>DETROIT, MICHIGAN</td>\n",
       "      <td>-83.045754</td>\n",
       "      <td>42.331427</td>\n",
       "    </tr>\n",
       "  </tbody>\n",
       "</table>\n",
       "</div>"
      ],
      "text/plain": [
       "   Unnamed: 0 CASE_STATUS           EMPLOYER_NAME                   SOC_NAME  \\\n",
       "0       85515   CERTIFIED            ANVETA, INC.  COMPUTER SYSTEMS ANALYSTS   \n",
       "1       85516   CERTIFIED  ERNST & YOUNG U.S. LLP  COMPUTER SYSTEMS ANALYSTS   \n",
       "2       85517   CERTIFIED      QUICKEN LOANS INC.  COMPUTER SYSTEMS ANALYSTS   \n",
       "\n",
       "                                          JOB_TITLE FULL_TIME_POSITION  \\\n",
       "0                                   SYSTEMS ANALYST                  N   \n",
       "1                                    ADVISORY STAFF                  Y   \n",
       "2  SENIOR BUSINESS ANALYST IN BUSINESS INTELLIGENCE                  Y   \n",
       "\n",
       "   PREVAILING_WAGE  YEAR                   WORKSITE         lon        lat  \n",
       "0          60133.0  2016              IRVING, TEXAS  -96.948894  32.814018  \n",
       "1          74922.0  2016  SAN FRANCISCO, CALIFORNIA -122.419415  37.774929  \n",
       "2          78250.0  2016          DETROIT, MICHIGAN  -83.045754  42.331427  "
      ]
     },
     "execution_count": 46,
     "metadata": {},
     "output_type": "execute_result"
    }
   ],
   "source": [
    "mydf_test = pd.read_csv(f'{path}/H1b_test.csv')\n",
    "print(mydf_test.shape)\n",
    "mydf_test.head(3)"
   ]
  },
  {
   "cell_type": "code",
   "execution_count": 47,
   "metadata": {},
   "outputs": [
    {
     "data": {
      "text/plain": [
       "<matplotlib.axes._subplots.AxesSubplot at 0x198d7dfc508>"
      ]
     },
     "execution_count": 47,
     "metadata": {},
     "output_type": "execute_result"
    },
    {
     "data": {
      "image/png": "[encoded data removed]",
      "text/plain": [
       "<Figure size 576x432 with 1 Axes>"
      ]
     },
     "metadata": {
      "needs_background": "light"
     },
     "output_type": "display_data"
    }
   ],
   "source": [
    "''' (1) Deal with missing values. First, calculate the percentage of\n",
    "missing values for every column, and plot them as a bar chart'''\n",
    "\n",
    "null_vals = mydf_test.isnull().sum()/len(mydf_test)*100\n",
    "null_vals = pd.DataFrame(null_vals)\n",
    "null_vals.reset_index(inplace = True)\n",
    "null_vals.columns = [\"Feature\",\"Percent missing\"]\n",
    "plt.figure(figsize = (8,6))\n",
    "plt.xticks(rotation=45)\n",
    "sns.barplot(x = \"Feature\",y =\"Percent missing\",data = null_vals)"
   ]
  },
  {
   "cell_type": "code",
   "execution_count": 48,
   "metadata": {},
   "outputs": [
    {
     "name": "stdout",
     "output_type": "stream",
     "text": [
      "(15091, 9)\n"
     ]
    },
    {
     "data": {
      "text/html": [
       "<div>\n",
       "<style scoped>\n",
       "    .dataframe tbody tr th:only-of-type {\n",
       "        vertical-align: middle;\n",
       "    }\n",
       "\n",
       "    .dataframe tbody tr th {\n",
       "        vertical-align: top;\n",
       "    }\n",
       "\n",
       "    .dataframe thead th {\n",
       "        text-align: right;\n",
       "    }\n",
       "</style>\n",
       "<table border=\"1\" class=\"dataframe\">\n",
       "  <thead>\n",
       "    <tr style=\"text-align: right;\">\n",
       "      <th></th>\n",
       "      <th>Unnamed: 0</th>\n",
       "      <th>CASE_STATUS</th>\n",
       "      <th>EMPLOYER_NAME</th>\n",
       "      <th>SOC_NAME</th>\n",
       "      <th>JOB_TITLE</th>\n",
       "      <th>FULL_TIME_POSITION</th>\n",
       "      <th>PREVAILING_WAGE</th>\n",
       "      <th>YEAR</th>\n",
       "      <th>WORKSITE</th>\n",
       "    </tr>\n",
       "  </thead>\n",
       "  <tbody>\n",
       "    <tr>\n",
       "      <th>0</th>\n",
       "      <td>85515</td>\n",
       "      <td>CERTIFIED</td>\n",
       "      <td>ANVETA, INC.</td>\n",
       "      <td>COMPUTER SYSTEMS ANALYSTS</td>\n",
       "      <td>SYSTEMS ANALYST</td>\n",
       "      <td>N</td>\n",
       "      <td>60133.0</td>\n",
       "      <td>2016</td>\n",
       "      <td>IRVING, TEXAS</td>\n",
       "    </tr>\n",
       "    <tr>\n",
       "      <th>1</th>\n",
       "      <td>85516</td>\n",
       "      <td>CERTIFIED</td>\n",
       "      <td>ERNST &amp; YOUNG U.S. LLP</td>\n",
       "      <td>COMPUTER SYSTEMS ANALYSTS</td>\n",
       "      <td>ADVISORY STAFF</td>\n",
       "      <td>Y</td>\n",
       "      <td>74922.0</td>\n",
       "      <td>2016</td>\n",
       "      <td>SAN FRANCISCO, CALIFORNIA</td>\n",
       "    </tr>\n",
       "  </tbody>\n",
       "</table>\n",
       "</div>"
      ],
      "text/plain": [
       "   Unnamed: 0 CASE_STATUS           EMPLOYER_NAME                   SOC_NAME  \\\n",
       "0       85515   CERTIFIED            ANVETA, INC.  COMPUTER SYSTEMS ANALYSTS   \n",
       "1       85516   CERTIFIED  ERNST & YOUNG U.S. LLP  COMPUTER SYSTEMS ANALYSTS   \n",
       "\n",
       "         JOB_TITLE FULL_TIME_POSITION  PREVAILING_WAGE  YEAR  \\\n",
       "0  SYSTEMS ANALYST                  N          60133.0  2016   \n",
       "1   ADVISORY STAFF                  Y          74922.0  2016   \n",
       "\n",
       "                    WORKSITE  \n",
       "0              IRVING, TEXAS  \n",
       "1  SAN FRANCISCO, CALIFORNIA  "
      ]
     },
     "execution_count": 48,
     "metadata": {},
     "output_type": "execute_result"
    }
   ],
   "source": [
    "'''Droping unnecessary column'''\n",
    "mydf_test_1 = mydf_test.drop([\"lon\",\"lat\"],axis = 1)\n",
    "print(mydf_test_1.shape)\n",
    "mydf_test_1.head(2)"
   ]
  },
  {
   "cell_type": "code",
   "execution_count": 49,
   "metadata": {},
   "outputs": [],
   "source": [
    "'''(3) Map categories to numbers for test set'''\n",
    "mydf_test_2 = str_to_cat(mydf_test_1)"
   ]
  },
  {
   "cell_type": "code",
   "execution_count": 50,
   "metadata": {},
   "outputs": [
    {
     "data": {
      "text/plain": [
       "{}"
      ]
     },
     "execution_count": 50,
     "metadata": {},
     "output_type": "execute_result"
    }
   ],
   "source": [
    "my_table"
   ]
  },
  {
   "cell_type": "code",
   "execution_count": 51,
   "metadata": {},
   "outputs": [
    {
     "name": "stdout",
     "output_type": "stream",
     "text": [
      "(15091, 9)\n"
     ]
    },
    {
     "data": {
      "text/html": [
       "<div>\n",
       "<style scoped>\n",
       "    .dataframe tbody tr th:only-of-type {\n",
       "        vertical-align: middle;\n",
       "    }\n",
       "\n",
       "    .dataframe tbody tr th {\n",
       "        vertical-align: top;\n",
       "    }\n",
       "\n",
       "    .dataframe thead th {\n",
       "        text-align: right;\n",
       "    }\n",
       "</style>\n",
       "<table border=\"1\" class=\"dataframe\">\n",
       "  <thead>\n",
       "    <tr style=\"text-align: right;\">\n",
       "      <th></th>\n",
       "      <th>Unnamed: 0</th>\n",
       "      <th>CASE_STATUS</th>\n",
       "      <th>EMPLOYER_NAME</th>\n",
       "      <th>SOC_NAME</th>\n",
       "      <th>JOB_TITLE</th>\n",
       "      <th>FULL_TIME_POSITION</th>\n",
       "      <th>PREVAILING_WAGE</th>\n",
       "      <th>YEAR</th>\n",
       "      <th>WORKSITE</th>\n",
       "    </tr>\n",
       "  </thead>\n",
       "  <tbody>\n",
       "    <tr>\n",
       "      <th>0</th>\n",
       "      <td>85515</td>\n",
       "      <td>1</td>\n",
       "      <td>193</td>\n",
       "      <td>5</td>\n",
       "      <td>2047</td>\n",
       "      <td>1</td>\n",
       "      <td>60133.0</td>\n",
       "      <td>2016</td>\n",
       "      <td>482</td>\n",
       "    </tr>\n",
       "    <tr>\n",
       "      <th>1</th>\n",
       "      <td>85516</td>\n",
       "      <td>1</td>\n",
       "      <td>838</td>\n",
       "      <td>5</td>\n",
       "      <td>34</td>\n",
       "      <td>2</td>\n",
       "      <td>74922.0</td>\n",
       "      <td>2016</td>\n",
       "      <td>946</td>\n",
       "    </tr>\n",
       "    <tr>\n",
       "      <th>2</th>\n",
       "      <td>85517</td>\n",
       "      <td>1</td>\n",
       "      <td>1882</td>\n",
       "      <td>5</td>\n",
       "      <td>1459</td>\n",
       "      <td>2</td>\n",
       "      <td>78250.0</td>\n",
       "      <td>2016</td>\n",
       "      <td>256</td>\n",
       "    </tr>\n",
       "  </tbody>\n",
       "</table>\n",
       "</div>"
      ],
      "text/plain": [
       "   Unnamed: 0  CASE_STATUS  EMPLOYER_NAME  SOC_NAME  JOB_TITLE  \\\n",
       "0       85515            1            193         5       2047   \n",
       "1       85516            1            838         5         34   \n",
       "2       85517            1           1882         5       1459   \n",
       "\n",
       "   FULL_TIME_POSITION  PREVAILING_WAGE  YEAR  WORKSITE  \n",
       "0                   1          60133.0  2016       482  \n",
       "1                   2          74922.0  2016       946  \n",
       "2                   2          78250.0  2016       256  "
      ]
     },
     "execution_count": 51,
     "metadata": {},
     "output_type": "execute_result"
    }
   ],
   "source": [
    "''' (4) Let's proceed with the imputation and convert strings into \n",
    "numbers for the test set. Use my_table from training set.'''\n",
    "\n",
    "my_table = {}\n",
    "mydf_test_3,my_table1 = mydf_preprocessor(mydf_test_2,\n",
    "                                         null_table = my_table)\n",
    "print(mydf_test_3.shape)\n",
    "mydf_test_3.head(3)"
   ]
  },
  {
   "cell_type": "code",
   "execution_count": 52,
   "metadata": {},
   "outputs": [
    {
     "name": "stdout",
     "output_type": "stream",
     "text": [
      "(15091, 8) (15091,) (15091, 9)\n"
     ]
    }
   ],
   "source": [
    "'''Now, let's separate the X and Y variables (vertical split of the \n",
    "dataframe). Here the Y column is the variable we are trying to predict, \n",
    "survived or not(0 = No, 1 = Yes)'''\n",
    "Y_test = mydf_test_3[\"CASE_STATUS\"]\n",
    "X_test = mydf_test_3.drop([\"CASE_STATUS\"],axis = 1)\n",
    "print(X_test.shape,Y_test.shape,mydf_test_3.shape)"
   ]
  },
  {
   "cell_type": "code",
   "execution_count": 53,
   "metadata": {},
   "outputs": [
    {
     "data": {
      "text/html": [
       "<div>\n",
       "<style scoped>\n",
       "    .dataframe tbody tr th:only-of-type {\n",
       "        vertical-align: middle;\n",
       "    }\n",
       "\n",
       "    .dataframe tbody tr th {\n",
       "        vertical-align: top;\n",
       "    }\n",
       "\n",
       "    .dataframe thead th {\n",
       "        text-align: right;\n",
       "    }\n",
       "</style>\n",
       "<table border=\"1\" class=\"dataframe\">\n",
       "  <thead>\n",
       "    <tr style=\"text-align: right;\">\n",
       "      <th></th>\n",
       "      <th>Unnamed: 0</th>\n",
       "      <th>EMPLOYER_NAME</th>\n",
       "      <th>SOC_NAME</th>\n",
       "      <th>JOB_TITLE</th>\n",
       "      <th>FULL_TIME_POSITION</th>\n",
       "      <th>PREVAILING_WAGE</th>\n",
       "      <th>YEAR</th>\n",
       "      <th>WORKSITE</th>\n",
       "    </tr>\n",
       "  </thead>\n",
       "  <tbody>\n",
       "    <tr>\n",
       "      <th>0</th>\n",
       "      <td>85515</td>\n",
       "      <td>193</td>\n",
       "      <td>5</td>\n",
       "      <td>2047</td>\n",
       "      <td>1</td>\n",
       "      <td>-0.019097</td>\n",
       "      <td>2016</td>\n",
       "      <td>482</td>\n",
       "    </tr>\n",
       "    <tr>\n",
       "      <th>1</th>\n",
       "      <td>85516</td>\n",
       "      <td>838</td>\n",
       "      <td>5</td>\n",
       "      <td>34</td>\n",
       "      <td>2</td>\n",
       "      <td>-0.011980</td>\n",
       "      <td>2016</td>\n",
       "      <td>946</td>\n",
       "    </tr>\n",
       "  </tbody>\n",
       "</table>\n",
       "</div>"
      ],
      "text/plain": [
       "   Unnamed: 0  EMPLOYER_NAME  SOC_NAME  JOB_TITLE  FULL_TIME_POSITION  \\\n",
       "0       85515            193         5       2047                   1   \n",
       "1       85516            838         5         34                   2   \n",
       "\n",
       "   PREVAILING_WAGE  YEAR  WORKSITE  \n",
       "0        -0.019097  2016       482  \n",
       "1        -0.011980  2016       946  "
      ]
     },
     "execution_count": 53,
     "metadata": {},
     "output_type": "execute_result"
    }
   ],
   "source": [
    "'''Standardize the continuous variables. Read in the joblib\n",
    "scaler from the previous notebook'''\n",
    "scaler_loaded = joblib.load(f'{path}\\scaler_trainset\\scaler_train.sav')\n",
    "X_test[[\"PREVAILING_WAGE\"]] = pd.DataFrame(scaler_loaded.transform(X_test[[\"PREVAILING_WAGE\"]]))\n",
    "X_test.head(2)"
   ]
  },
  {
   "cell_type": "code",
   "execution_count": 54,
   "metadata": {},
   "outputs": [
    {
     "name": "stdout",
     "output_type": "stream",
     "text": [
      "Accuracy Score :  0.9074945331654629\n"
     ]
    }
   ],
   "source": [
    "#Let's load the saved k-NN model and test it out.\n",
    "kNN_loaded = joblib.load(f'{path}/knn_model_final.sav')\n",
    "Y_test_pred = kNN_loaded.predict(X_test)\n",
    "print(\"Accuracy Score : \",accuracy_score(Y_test,Y_test_pred))"
   ]
  },
  {
   "cell_type": "code",
   "execution_count": 55,
   "metadata": {},
   "outputs": [
    {
     "name": "stdout",
     "output_type": "stream",
     "text": [
      "Mathews Score :  0.0\n"
     ]
    },
    {
     "name": "stderr",
     "output_type": "stream",
     "text": [
      "C:\\Users\\scara\\Anaconda3\\lib\\site-packages\\sklearn\\metrics\\_classification.py:900: RuntimeWarning: invalid value encountered in double_scalars\n",
      "  mcc = cov_ytyp / np.sqrt(cov_ytyt * cov_ypyp)\n"
     ]
    }
   ],
   "source": [
    "print(\"Mathews Score : \",matthews_corrcoef(Y_test,Y_test_pred))"
   ]
  },
  {
   "cell_type": "code",
   "execution_count": 56,
   "metadata": {},
   "outputs": [
    {
     "name": "stdout",
     "output_type": "stream",
     "text": [
      "F1 Score :  0.9074945331654629\n"
     ]
    },
    {
     "name": "stderr",
     "output_type": "stream",
     "text": [
      "C:\\Users\\scara\\Anaconda3\\lib\\site-packages\\sklearn\\metrics\\_classification.py:1321: UserWarning: Note that pos_label (set to 'positive') is ignored when average != 'binary' (got 'micro'). You may use labels=[pos_label] to specify a single positive class.\n",
      "  % (pos_label, average), UserWarning)\n"
     ]
    }
   ],
   "source": [
    "print(\"F1 Score : \",f1_score(Y_test,Y_test_pred,pos_label='positive',\n",
    "                                           average='micro'))"
   ]
  }
 ],
 "metadata": {
  "kernelspec": {
   "display_name": "Python 3",
   "language": "python",
   "name": "python3"
  },
  "language_info": {
   "codemirror_mode": {
    "name": "ipython",
    "version": 3
   },
   "file_extension": ".py",
   "mimetype": "text/x-python",
   "name": "python",
   "nbconvert_exporter": "python",
   "pygments_lexer": "ipython3",
   "version": "3.7.6"
  }
 },
 "nbformat": 4,
 "nbformat_minor": 2
}
